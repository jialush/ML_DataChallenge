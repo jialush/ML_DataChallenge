{
 "cells": [
  {
   "cell_type": "markdown",
   "metadata": {},
   "source": [
    "# Data Science Challenge"
   ]
  },
  {
   "cell_type": "code",
   "execution_count": 2,
   "metadata": {},
   "outputs": [],
   "source": [
    "# To install packages that are not installed by default, uncomment the last two lines of this cell \n",
    "# and replace <package list> with a list of packages to import.\n",
    "# This will ensure the notebook has all the dependencies and works everywhere.\n",
    "\n",
    "#import sys\n",
    "#!{sys.executable} -m pip install <package list>"
   ]
  },
  {
   "cell_type": "code",
   "execution_count": 40,
   "metadata": {},
   "outputs": [],
   "source": [
    "# Libraries\n",
    "import pandas as pd\n",
    "import numpy as np\n",
    "\n",
    "import datetime, warnings, scipy\n",
    "\n",
    "pd.set_option(\"display.max_columns\", 101)"
   ]
  },
  {
   "cell_type": "code",
   "execution_count": 85,
   "metadata": {},
   "outputs": [
    {
     "name": "stderr",
     "output_type": "stream",
     "text": [
      "UsageError: unrecognized arguments: #sns.set_style('darkgrid')\n"
     ]
    }
   ],
   "source": [
    "import seaborn as sns\n",
    "import matplotlib.pyplot as plt\n",
    "import matplotlib as mpl\n",
    "%matplotlib inline\\\n",
    "#sns.set_style('darkgrid')"
   ]
  },
  {
   "cell_type": "markdown",
   "metadata": {},
   "source": [
    "## Data Description"
   ]
  },
  {
   "cell_type": "markdown",
   "metadata": {},
   "source": [
    "Column | Description\n",
    ":---|:---\n",
    "`id` | Identification number for the flight.\n",
    "`dep_stn` | Departure point.\n",
    "`arr_stn` | Arrival point.\n",
    "`ac_code` | Aircraft Code. \n",
    "`dep_date` | Scheduled departure date.\t\n",
    "`arr_date` | Scheduled arrival date.\n",
    "`weather` | Observed weather conditions at departure.\n",
    "`hobbs_meter` | The time in hours that an aircraft has been in use.\n",
    "`year_man` | Year of manufacturer for the aircraft.\n",
    "`dep_country` | Departure country.\n",
    "`arr_country` | Destination country.\n",
    "`delay` | Number of minutes a flight was delayed."
   ]
  },
  {
   "cell_type": "markdown",
   "metadata": {},
   "source": [
    "## Data Wrangling & Visualization"
   ]
  },
  {
   "cell_type": "code",
   "execution_count": 4,
   "metadata": {},
   "outputs": [],
   "source": [
    "# Dataset is already loaded below\n",
    "data = pd.read_csv(\"train.csv\")"
   ]
  },
  {
   "cell_type": "code",
   "execution_count": 206,
   "metadata": {},
   "outputs": [
    {
     "data": {
      "text/html": [
       "<div>\n",
       "<style scoped>\n",
       "    .dataframe tbody tr th:only-of-type {\n",
       "        vertical-align: middle;\n",
       "    }\n",
       "\n",
       "    .dataframe tbody tr th {\n",
       "        vertical-align: top;\n",
       "    }\n",
       "\n",
       "    .dataframe thead th {\n",
       "        text-align: right;\n",
       "    }\n",
       "</style>\n",
       "<table border=\"1\" class=\"dataframe\">\n",
       "  <thead>\n",
       "    <tr style=\"text-align: right;\">\n",
       "      <th></th>\n",
       "      <th>id</th>\n",
       "      <th>dep_stn</th>\n",
       "      <th>arr_stn</th>\n",
       "      <th>ac_code</th>\n",
       "      <th>dep_date</th>\n",
       "      <th>arr_date</th>\n",
       "      <th>weather</th>\n",
       "      <th>hobbs_meter</th>\n",
       "      <th>year_man</th>\n",
       "      <th>dep_country</th>\n",
       "      <th>arr_country</th>\n",
       "      <th>delay</th>\n",
       "    </tr>\n",
       "  </thead>\n",
       "  <tbody>\n",
       "    <tr>\n",
       "      <th>0</th>\n",
       "      <td>TU 0930</td>\n",
       "      <td>TUN</td>\n",
       "      <td>MRS</td>\n",
       "      <td>TU 32AIMD</td>\n",
       "      <td>2016-01-01 07:55:00</td>\n",
       "      <td>2016-01-01 09.30.00</td>\n",
       "      <td>sunny</td>\n",
       "      <td>4390</td>\n",
       "      <td>2004-08</td>\n",
       "      <td>Tunisia</td>\n",
       "      <td>France</td>\n",
       "      <td>18.0</td>\n",
       "    </tr>\n",
       "    <tr>\n",
       "      <th>1</th>\n",
       "      <td>TU 0526</td>\n",
       "      <td>TUN</td>\n",
       "      <td>DUS</td>\n",
       "      <td>TU 736IOQ</td>\n",
       "      <td>2016-01-01 08:20:00</td>\n",
       "      <td>2016-01-01 11.05.00</td>\n",
       "      <td>rainy</td>\n",
       "      <td>5882</td>\n",
       "      <td>2010-01</td>\n",
       "      <td>Tunisia</td>\n",
       "      <td>Germany</td>\n",
       "      <td>39.0</td>\n",
       "    </tr>\n",
       "    <tr>\n",
       "      <th>2</th>\n",
       "      <td>TU 0718</td>\n",
       "      <td>TUN</td>\n",
       "      <td>ORY</td>\n",
       "      <td>TU 320IMU</td>\n",
       "      <td>2016-01-01 10:05:00</td>\n",
       "      <td>2016-01-01 12.25.00</td>\n",
       "      <td>foggy</td>\n",
       "      <td>6117</td>\n",
       "      <td>2011-03</td>\n",
       "      <td>Tunisia</td>\n",
       "      <td>France</td>\n",
       "      <td>14.0</td>\n",
       "    </tr>\n",
       "    <tr>\n",
       "      <th>3</th>\n",
       "      <td>TU 0997</td>\n",
       "      <td>NCE</td>\n",
       "      <td>TUN</td>\n",
       "      <td>TU 320IMT</td>\n",
       "      <td>2016-01-01 10:15:00</td>\n",
       "      <td>2016-01-01 11.50.00</td>\n",
       "      <td>sunny</td>\n",
       "      <td>8941</td>\n",
       "      <td>2010-01</td>\n",
       "      <td>France</td>\n",
       "      <td>Tunisia</td>\n",
       "      <td>25.0</td>\n",
       "    </tr>\n",
       "    <tr>\n",
       "      <th>4</th>\n",
       "      <td>TU 0700</td>\n",
       "      <td>TUN</td>\n",
       "      <td>GVA</td>\n",
       "      <td>TU 320IMV</td>\n",
       "      <td>2016-01-01 12:40:00</td>\n",
       "      <td>2016-01-01 14.35.00</td>\n",
       "      <td>stormy</td>\n",
       "      <td>4301</td>\n",
       "      <td>2004-08</td>\n",
       "      <td>Tunisia</td>\n",
       "      <td>Switzerland</td>\n",
       "      <td>21.0</td>\n",
       "    </tr>\n",
       "  </tbody>\n",
       "</table>\n",
       "</div>"
      ],
      "text/plain": [
       "         id dep_stn arr_stn    ac_code             dep_date  \\\n",
       "0  TU 0930      TUN     MRS  TU 32AIMD  2016-01-01 07:55:00   \n",
       "1  TU 0526      TUN     DUS  TU 736IOQ  2016-01-01 08:20:00   \n",
       "2  TU 0718      TUN     ORY  TU 320IMU  2016-01-01 10:05:00   \n",
       "3  TU 0997      NCE     TUN  TU 320IMT  2016-01-01 10:15:00   \n",
       "4  TU 0700      TUN     GVA  TU 320IMV  2016-01-01 12:40:00   \n",
       "\n",
       "              arr_date weather  hobbs_meter year_man dep_country  arr_country  \\\n",
       "0  2016-01-01 09.30.00   sunny         4390  2004-08     Tunisia       France   \n",
       "1  2016-01-01 11.05.00   rainy         5882  2010-01     Tunisia      Germany   \n",
       "2  2016-01-01 12.25.00   foggy         6117  2011-03     Tunisia       France   \n",
       "3  2016-01-01 11.50.00   sunny         8941  2010-01      France      Tunisia   \n",
       "4  2016-01-01 14.35.00  stormy         4301  2004-08     Tunisia  Switzerland   \n",
       "\n",
       "   delay  \n",
       "0   18.0  \n",
       "1   39.0  \n",
       "2   14.0  \n",
       "3   25.0  \n",
       "4   21.0  "
      ]
     },
     "execution_count": 206,
     "metadata": {},
     "output_type": "execute_result"
    }
   ],
   "source": [
    "data.head(5)"
   ]
  },
  {
   "cell_type": "code",
   "execution_count": 7,
   "metadata": {},
   "outputs": [
    {
     "data": {
      "text/plain": [
       "Index(['id', 'dep_stn', 'arr_stn', 'ac_code', 'dep_date', 'arr_date',\n",
       "       'weather', 'hobbs_meter', 'year_man', 'dep_country', 'arr_country',\n",
       "       'delay'],\n",
       "      dtype='object')"
      ]
     },
     "execution_count": 7,
     "metadata": {},
     "output_type": "execute_result"
    }
   ],
   "source": [
    "#Explore columns\n",
    "data.columns"
   ]
  },
  {
   "cell_type": "code",
   "execution_count": 8,
   "metadata": {},
   "outputs": [
    {
     "data": {
      "text/html": [
       "<div>\n",
       "<style scoped>\n",
       "    .dataframe tbody tr th:only-of-type {\n",
       "        vertical-align: middle;\n",
       "    }\n",
       "\n",
       "    .dataframe tbody tr th {\n",
       "        vertical-align: top;\n",
       "    }\n",
       "\n",
       "    .dataframe thead th {\n",
       "        text-align: right;\n",
       "    }\n",
       "</style>\n",
       "<table border=\"1\" class=\"dataframe\">\n",
       "  <thead>\n",
       "    <tr style=\"text-align: right;\">\n",
       "      <th></th>\n",
       "      <th>hobbs_meter</th>\n",
       "      <th>delay</th>\n",
       "    </tr>\n",
       "  </thead>\n",
       "  <tbody>\n",
       "    <tr>\n",
       "      <th>count</th>\n",
       "      <td>5000.000000</td>\n",
       "      <td>5000.000000</td>\n",
       "    </tr>\n",
       "    <tr>\n",
       "      <th>mean</th>\n",
       "      <td>6017.559600</td>\n",
       "      <td>21.016600</td>\n",
       "    </tr>\n",
       "    <tr>\n",
       "      <th>std</th>\n",
       "      <td>1433.121879</td>\n",
       "      <td>12.324378</td>\n",
       "    </tr>\n",
       "    <tr>\n",
       "      <th>min</th>\n",
       "      <td>3464.000000</td>\n",
       "      <td>1.000000</td>\n",
       "    </tr>\n",
       "    <tr>\n",
       "      <th>25%</th>\n",
       "      <td>4516.000000</td>\n",
       "      <td>10.000000</td>\n",
       "    </tr>\n",
       "    <tr>\n",
       "      <th>50%</th>\n",
       "      <td>6303.000000</td>\n",
       "      <td>19.000000</td>\n",
       "    </tr>\n",
       "    <tr>\n",
       "      <th>75%</th>\n",
       "      <td>6909.000000</td>\n",
       "      <td>30.000000</td>\n",
       "    </tr>\n",
       "    <tr>\n",
       "      <th>max</th>\n",
       "      <td>9200.000000</td>\n",
       "      <td>49.000000</td>\n",
       "    </tr>\n",
       "  </tbody>\n",
       "</table>\n",
       "</div>"
      ],
      "text/plain": [
       "       hobbs_meter        delay\n",
       "count  5000.000000  5000.000000\n",
       "mean   6017.559600    21.016600\n",
       "std    1433.121879    12.324378\n",
       "min    3464.000000     1.000000\n",
       "25%    4516.000000    10.000000\n",
       "50%    6303.000000    19.000000\n",
       "75%    6909.000000    30.000000\n",
       "max    9200.000000    49.000000"
      ]
     },
     "execution_count": 8,
     "metadata": {},
     "output_type": "execute_result"
    }
   ],
   "source": [
    "#Description\n",
    "data.describe()"
   ]
  },
  {
   "cell_type": "code",
   "execution_count": 6,
   "metadata": {},
   "outputs": [],
   "source": [
    "#import test data\n",
    "data_test=pd.read_csv('test.csv')\n",
    "\n",
    "data_test = pd.DataFrame(data_test) #test data not has response"
   ]
  },
  {
   "cell_type": "code",
   "execution_count": 7,
   "metadata": {},
   "outputs": [],
   "source": [
    "# Concate training set and testing set (if there is one)\n",
    "frames=[data,data_test]\n",
    "df=pd.concat(frames, \n",
    "    axis=0,\n",
    "    join=\"outer\",\n",
    "    ignore_index=False,\n",
    "    keys=None,\n",
    "    copy=True,\n",
    ") #union by row, attach below"
   ]
  },
  {
   "cell_type": "code",
   "execution_count": 8,
   "metadata": {},
   "outputs": [
    {
     "data": {
      "text/plain": [
       "(5000, 12)"
      ]
     },
     "execution_count": 8,
     "metadata": {},
     "output_type": "execute_result"
    }
   ],
   "source": [
    "data.shape"
   ]
  },
  {
   "cell_type": "code",
   "execution_count": 9,
   "metadata": {},
   "outputs": [
    {
     "data": {
      "text/plain": [
       "(3000, 11)"
      ]
     },
     "execution_count": 9,
     "metadata": {},
     "output_type": "execute_result"
    }
   ],
   "source": [
    "data_test.shape"
   ]
  },
  {
   "cell_type": "code",
   "execution_count": 10,
   "metadata": {},
   "outputs": [
    {
     "data": {
      "text/plain": [
       "(8000, 12)"
      ]
     },
     "execution_count": 10,
     "metadata": {},
     "output_type": "execute_result"
    }
   ],
   "source": [
    "df.shape"
   ]
  },
  {
   "cell_type": "code",
   "execution_count": 13,
   "metadata": {},
   "outputs": [],
   "source": [
    "#create an indicator to imply train/test data\n",
    "df['train']=np.concatenate(([1]*data.shape[0], [0]*data_test.shape[0]),axis=0)"
   ]
  },
  {
   "cell_type": "code",
   "execution_count": 14,
   "metadata": {},
   "outputs": [
    {
     "name": "stdout",
     "output_type": "stream",
     "text": [
      "<class 'pandas.core.frame.DataFrame'>\n",
      "Int64Index: 8000 entries, 0 to 2999\n",
      "Data columns (total 13 columns):\n",
      " #   Column       Non-Null Count  Dtype  \n",
      "---  ------       --------------  -----  \n",
      " 0   id           8000 non-null   object \n",
      " 1   dep_stn      8000 non-null   object \n",
      " 2   arr_stn      8000 non-null   object \n",
      " 3   ac_code      8000 non-null   object \n",
      " 4   dep_date     8000 non-null   object \n",
      " 5   arr_date     8000 non-null   object \n",
      " 6   weather      8000 non-null   object \n",
      " 7   hobbs_meter  8000 non-null   int64  \n",
      " 8   year_man     8000 non-null   object \n",
      " 9   dep_country  8000 non-null   object \n",
      " 10  arr_country  8000 non-null   object \n",
      " 11  delay        5000 non-null   float64\n",
      " 12  train        8000 non-null   int64  \n",
      "dtypes: float64(1), int64(2), object(10)\n",
      "memory usage: 875.0+ KB\n"
     ]
    }
   ],
   "source": [
    "#look at basic infor\n",
    "df.info()"
   ]
  },
  {
   "cell_type": "markdown",
   "metadata": {},
   "source": [
    "Since there is no missing, so we will not deal with missing in feature engineering"
   ]
  },
  {
   "cell_type": "code",
   "execution_count": 15,
   "metadata": {},
   "outputs": [
    {
     "data": {
      "text/plain": [
       "array(['id', 'dep_stn', 'arr_stn', 'ac_code', 'dep_date', 'arr_date',\n",
       "       'weather', 'hobbs_meter', 'year_man', 'dep_country', 'arr_country',\n",
       "       'delay', 'train'], dtype=object)"
      ]
     },
     "execution_count": 15,
     "metadata": {},
     "output_type": "execute_result"
    }
   ],
   "source": [
    "df.columns.values"
   ]
  },
  {
   "cell_type": "code",
   "execution_count": null,
   "metadata": {},
   "outputs": [],
   "source": []
  },
  {
   "cell_type": "code",
   "execution_count": null,
   "metadata": {},
   "outputs": [],
   "source": []
  },
  {
   "cell_type": "markdown",
   "metadata": {},
   "source": [
    "# Feature Engineering"
   ]
  },
  {
   "cell_type": "markdown",
   "metadata": {},
   "source": [
    "## Look at categorical features"
   ]
  },
  {
   "cell_type": "code",
   "execution_count": 22,
   "metadata": {},
   "outputs": [],
   "source": [
    "#Only look at training data\n",
    "df1=df.loc[df['train']==1]"
   ]
  },
  {
   "cell_type": "code",
   "execution_count": 144,
   "metadata": {},
   "outputs": [],
   "source": [
    "## Look at categorical features\n",
    "top20_dep_stn=df1.groupby('dep_stn').size().sort_values(ascending=False).head(20).index\n",
    "df1.groupby('dep_stn').size().sort_values(ascending=False).head(20).sum()"
   ]
  },
  {
   "cell_type": "markdown",
   "metadata": {},
   "source": [
    "top 20 departures account for 4240 in the 5000. We will use one-hot to categorize them. THe others~800  can be explained whtn all the one hot are 0."
   ]
  },
  {
   "cell_type": "code",
   "execution_count": 36,
   "metadata": {},
   "outputs": [
    {
     "data": {
      "text/plain": [
       "id\n",
       "TU 0744     90\n",
       "TU 0745     88\n",
       "TU 0635     81\n",
       "TU 0722     81\n",
       "TU 0724     81\n",
       "            ..\n",
       "TU 5072      1\n",
       "TU 5092      1\n",
       "TU 5504      1\n",
       "TU 5505      1\n",
       "TU 2870      1\n",
       "Length: 422, dtype: int64"
      ]
     },
     "execution_count": 36,
     "metadata": {},
     "output_type": "execute_result"
    }
   ],
   "source": [
    "df1.groupby('id').size().sort_values(ascending=False)"
   ]
  },
  {
   "cell_type": "markdown",
   "metadata": {},
   "source": [
    "Since most of the airplanes are TU, we create a new indicator to show whether the airline is TU or not."
   ]
  },
  {
   "cell_type": "code",
   "execution_count": 110,
   "metadata": {},
   "outputs": [
    {
     "name": "stderr",
     "output_type": "stream",
     "text": [
      "/tmp/ipykernel_133/3417487494.py:3: SettingWithCopyWarning: \n",
      "A value is trying to be set on a copy of a slice from a DataFrame.\n",
      "Try using .loc[row_indexer,col_indexer] = value instead\n",
      "\n",
      "See the caveats in the documentation: https://pandas.pydata.org/pandas-docs/stable/user_guide/indexing.html#returning-a-view-versus-a-copy\n",
      "  df1['TU']=df1['id'].str.contains('TU', case=False)\n"
     ]
    }
   ],
   "source": [
    "#create TU column in df\n",
    "df['TU']=df['id'].str.contains('TU', case=False)\n",
    "df1['TU']=df1['id'].str.contains('TU', case=False)"
   ]
  },
  {
   "cell_type": "code",
   "execution_count": 39,
   "metadata": {},
   "outputs": [
    {
     "data": {
      "text/plain": [
       "7827"
      ]
     },
     "execution_count": 39,
     "metadata": {},
     "output_type": "execute_result"
    }
   ],
   "source": [
    "df['TU'].sum()"
   ]
  },
  {
   "cell_type": "markdown",
   "metadata": {},
   "source": [
    "## Deal with Time"
   ]
  },
  {
   "cell_type": "code",
   "execution_count": 43,
   "metadata": {},
   "outputs": [
    {
     "data": {
      "text/plain": [
       "'2017-11-08 11:15:00'"
      ]
     },
     "execution_count": 43,
     "metadata": {},
     "output_type": "execute_result"
    }
   ],
   "source": [
    "df1['dep_date'].max()"
   ]
  },
  {
   "cell_type": "code",
   "execution_count": 54,
   "metadata": {},
   "outputs": [],
   "source": [
    "df['DAY'] = pd.DatetimeIndex(df['dep_date']).day\n",
    "df['MONTH'] = pd.DatetimeIndex(df['dep_date']).month\n",
    "df['DayofWeek'] = pd.DatetimeIndex(df['dep_date']).dayofweek\n",
    "df['Hour'] = pd.DatetimeIndex(df['dep_date']).hour"
   ]
  },
  {
   "cell_type": "code",
   "execution_count": 129,
   "metadata": {},
   "outputs": [
    {
     "name": "stderr",
     "output_type": "stream",
     "text": [
      "/opt/conda/lib/python3.9/site-packages/pandas/core/algorithms.py:521: FutureWarning: Comparison of Timestamp with datetime.date is deprecated in order to match the standard library behavior. In a future version these will be considered non-comparable. Use 'ts == pd.Timestamp(date)' or 'ts.date() == date' instead.\n",
      "  return f(comps, values)\n"
     ]
    }
   ],
   "source": [
    "#check holiday\n",
    "from pandas.tseries.holiday import USFederalHolidayCalendar as calendar\n",
    "\n",
    "cal = calendar()\n",
    "holidays = cal.holidays(start=df['dep_date'].min(), end=df['dep_date'].max())\n",
    "#df['Holiday'] = pd.to_datetime(df['dep_date']).dt.date.isin(holidays)"
   ]
  },
  {
   "cell_type": "code",
   "execution_count": 130,
   "metadata": {},
   "outputs": [
    {
     "name": "stderr",
     "output_type": "stream",
     "text": [
      "/opt/conda/lib/python3.9/site-packages/pandas/core/algorithms.py:521: FutureWarning: Comparison of Timestamp with datetime.date is deprecated in order to match the standard library behavior. In a future version these will be considered non-comparable. Use 'ts == pd.Timestamp(date)' or 'ts.date() == date' instead.\n",
      "  return f(comps, values)\n"
     ]
    },
    {
     "data": {
      "text/plain": [
       "7"
      ]
     },
     "execution_count": 130,
     "metadata": {},
     "output_type": "execute_result"
    }
   ],
   "source": [
    "pd.to_datetime(df['dep_date']).dt.date.isin(holidays).sum()"
   ]
  },
  {
   "cell_type": "code",
   "execution_count": null,
   "metadata": {},
   "outputs": [],
   "source": [
    "US holidya make no senses here"
   ]
  },
  {
   "cell_type": "code",
   "execution_count": 64,
   "metadata": {},
   "outputs": [
    {
     "name": "stderr",
     "output_type": "stream",
     "text": [
      "/tmp/ipykernel_133/322865864.py:1: FutureWarning: The default value of regex will change from True to False in a future version. In addition, single character regular expressions will *not* be treated as literal strings when regex=True.\n",
      "  df['arr_date'] = df['arr_date'].str.replace('.',':')\n"
     ]
    }
   ],
   "source": [
    "df['arr_date'] = df['arr_date'].str.replace('.',':')\n",
    "df['Diff_min']=(pd.to_datetime(df['arr_date'])-pd.to_datetime(df['dep_date'])).dt.total_seconds().div(60).astype(int)"
   ]
  },
  {
   "cell_type": "code",
   "execution_count": 68,
   "metadata": {},
   "outputs": [
    {
     "data": {
      "text/html": [
       "<div>\n",
       "<style scoped>\n",
       "    .dataframe tbody tr th:only-of-type {\n",
       "        vertical-align: middle;\n",
       "    }\n",
       "\n",
       "    .dataframe tbody tr th {\n",
       "        vertical-align: top;\n",
       "    }\n",
       "\n",
       "    .dataframe thead th {\n",
       "        text-align: right;\n",
       "    }\n",
       "</style>\n",
       "<table border=\"1\" class=\"dataframe\">\n",
       "  <thead>\n",
       "    <tr style=\"text-align: right;\">\n",
       "      <th></th>\n",
       "      <th>id</th>\n",
       "      <th>dep_stn</th>\n",
       "      <th>arr_stn</th>\n",
       "      <th>ac_code</th>\n",
       "      <th>dep_date</th>\n",
       "      <th>arr_date</th>\n",
       "      <th>weather</th>\n",
       "      <th>hobbs_meter</th>\n",
       "      <th>year_man</th>\n",
       "      <th>dep_country</th>\n",
       "      <th>arr_country</th>\n",
       "      <th>delay</th>\n",
       "      <th>train</th>\n",
       "      <th>TU</th>\n",
       "      <th>DAY</th>\n",
       "      <th>MONTH</th>\n",
       "      <th>Holiday</th>\n",
       "      <th>DayofWeek</th>\n",
       "      <th>Hour</th>\n",
       "      <th>Diff_min</th>\n",
       "    </tr>\n",
       "  </thead>\n",
       "  <tbody>\n",
       "    <tr>\n",
       "      <th>0</th>\n",
       "      <td>TU 0930</td>\n",
       "      <td>TUN</td>\n",
       "      <td>MRS</td>\n",
       "      <td>TU 32AIMD</td>\n",
       "      <td>2016-01-01 07:55:00</td>\n",
       "      <td>2016-01-01 09:30:00</td>\n",
       "      <td>sunny</td>\n",
       "      <td>4390</td>\n",
       "      <td>2004-08</td>\n",
       "      <td>Tunisia</td>\n",
       "      <td>France</td>\n",
       "      <td>18.0</td>\n",
       "      <td>1</td>\n",
       "      <td>True</td>\n",
       "      <td>1</td>\n",
       "      <td>1</td>\n",
       "      <td>False</td>\n",
       "      <td>4</td>\n",
       "      <td>7</td>\n",
       "      <td>95</td>\n",
       "    </tr>\n",
       "    <tr>\n",
       "      <th>1</th>\n",
       "      <td>TU 0526</td>\n",
       "      <td>TUN</td>\n",
       "      <td>DUS</td>\n",
       "      <td>TU 736IOQ</td>\n",
       "      <td>2016-01-01 08:20:00</td>\n",
       "      <td>2016-01-01 11:05:00</td>\n",
       "      <td>rainy</td>\n",
       "      <td>5882</td>\n",
       "      <td>2010-01</td>\n",
       "      <td>Tunisia</td>\n",
       "      <td>Germany</td>\n",
       "      <td>39.0</td>\n",
       "      <td>1</td>\n",
       "      <td>True</td>\n",
       "      <td>1</td>\n",
       "      <td>1</td>\n",
       "      <td>False</td>\n",
       "      <td>4</td>\n",
       "      <td>8</td>\n",
       "      <td>165</td>\n",
       "    </tr>\n",
       "  </tbody>\n",
       "</table>\n",
       "</div>"
      ],
      "text/plain": [
       "         id dep_stn arr_stn    ac_code             dep_date  \\\n",
       "0  TU 0930      TUN     MRS  TU 32AIMD  2016-01-01 07:55:00   \n",
       "1  TU 0526      TUN     DUS  TU 736IOQ  2016-01-01 08:20:00   \n",
       "\n",
       "              arr_date weather  hobbs_meter year_man dep_country arr_country  \\\n",
       "0  2016-01-01 09:30:00   sunny         4390  2004-08     Tunisia      France   \n",
       "1  2016-01-01 11:05:00   rainy         5882  2010-01     Tunisia     Germany   \n",
       "\n",
       "   delay  train    TU  DAY  MONTH  Holiday  DayofWeek  Hour  Diff_min  \n",
       "0   18.0      1  True    1      1    False          4     7        95  \n",
       "1   39.0      1  True    1      1    False          4     8       165  "
      ]
     },
     "execution_count": 68,
     "metadata": {},
     "output_type": "execute_result"
    }
   ],
   "source": [
    "df.head(2)"
   ]
  },
  {
   "cell_type": "code",
   "execution_count": 79,
   "metadata": {},
   "outputs": [],
   "source": [
    "df['Domestic']=(df['dep_country']==df['arr_country']) #there is nearly no domestic airlines"
   ]
  },
  {
   "cell_type": "markdown",
   "metadata": {},
   "source": [
    "# Visualization"
   ]
  },
  {
   "cell_type": "code",
   "execution_count": 125,
   "metadata": {},
   "outputs": [],
   "source": [
    "df1=df[df['train']==1].copy()"
   ]
  },
  {
   "cell_type": "markdown",
   "metadata": {},
   "source": [
    "## Average Delay time by dep_stn"
   ]
  },
  {
   "cell_type": "code",
   "execution_count": 221,
   "metadata": {},
   "outputs": [
    {
     "data": {
      "image/png": "[encoded data removed]",
      "text/plain": [
       "<Figure size 1080x648 with 1 Axes>"
      ]
     },
     "metadata": {},
     "output_type": "display_data"
    }
   ],
   "source": [
    "col='dep_stn'\n",
    "test_3 = df1[[col, 'delay']]\n",
    "test_3 = test_3.groupby([col]).mean().reset_index()\n",
    "test_3 = test_3.sort_values(['delay']).reset_index(drop=True)\n",
    "#test_3.head(18)\n",
    "\n",
    "fig = plt.figure(1, figsize=(15,9))\n",
    "sns.set(font_scale=1.6)\n",
    "ax = sns.barplot(x='delay', y=col, data=test_3.head(20))\n",
    "plt.show()"
   ]
  },
  {
   "cell_type": "markdown",
   "metadata": {},
   "source": [
    "## Average Delay time by weather"
   ]
  },
  {
   "cell_type": "code",
   "execution_count": 222,
   "metadata": {},
   "outputs": [
    {
     "data": {
      "image/png": "[encoded data removed]",
      "text/plain": [
       "<Figure size 1080x648 with 1 Axes>"
      ]
     },
     "metadata": {},
     "output_type": "display_data"
    }
   ],
   "source": [
    "## Average Delay time by weather\n",
    "col='weather'\n",
    "test_3 = df1[[col, 'delay']]\n",
    "test_3 = test_3.groupby([col]).mean().reset_index()\n",
    "test_3 = test_3.sort_values(['delay']).reset_index(drop=True)\n",
    "#test_3.head(18)\n",
    "\n",
    "fig = plt.figure(1, figsize=(15,9))\n",
    "sns.set(font_scale=1.6)\n",
    "ax = sns.barplot(x='delay', y=col, data=test_3.head(20))\n",
    "plt.show()"
   ]
  },
  {
   "cell_type": "markdown",
   "metadata": {},
   "source": [
    "## Average Delay time by dep_country"
   ]
  },
  {
   "cell_type": "code",
   "execution_count": 223,
   "metadata": {},
   "outputs": [
    {
     "data": {
      "image/png": "[encoded data removed]",
      "text/plain": [
       "<Figure size 1080x648 with 1 Axes>"
      ]
     },
     "metadata": {},
     "output_type": "display_data"
    }
   ],
   "source": [
    "col='dep_country'\n",
    "test_3 = df1[[col, 'delay']]\n",
    "test_3 = test_3.groupby([col]).mean().reset_index()\n",
    "test_3 = test_3.sort_values(['delay']).reset_index(drop=True)\n",
    "#test_3.head(18)\n",
    "\n",
    "fig = plt.figure(1, figsize=(15,9))\n",
    "sns.set(font_scale=1.6)\n",
    "ax = sns.barplot(x='delay', y=col, data=test_3.head(20))\n",
    "plt.show()"
   ]
  },
  {
   "cell_type": "markdown",
   "metadata": {},
   "source": [
    "## Average Delay time by MONTH"
   ]
  },
  {
   "cell_type": "code",
   "execution_count": 224,
   "metadata": {},
   "outputs": [
    {
     "data": {
      "image/png": "[encoded data removed]",
      "text/plain": [
       "<Figure size 1080x648 with 1 Axes>"
      ]
     },
     "metadata": {},
     "output_type": "display_data"
    }
   ],
   "source": [
    "\n",
    "col='MONTH'\n",
    "test_3 = df1[[col, 'delay']]\n",
    "test_3 = test_3.groupby([col]).mean().reset_index()\n",
    "test_3 = test_3.sort_values(['delay']).reset_index(drop=True)\n",
    "#test_3.head(18)\n",
    "\n",
    "fig = plt.figure(1, figsize=(15,9))\n",
    "sns.set(font_scale=1.6)\n",
    "ax = sns.barplot(y='delay', x=col, data=test_3.head(20))\n",
    "plt.show()"
   ]
  },
  {
   "cell_type": "markdown",
   "metadata": {},
   "source": [
    "## Average Delay time by DayofWeek"
   ]
  },
  {
   "cell_type": "code",
   "execution_count": 131,
   "metadata": {},
   "outputs": [
    {
     "data": {
      "image/png": "[encoded data removed]",
      "text/plain": [
       "<Figure size 1080x648 with 1 Axes>"
      ]
     },
     "metadata": {},
     "output_type": "display_data"
    }
   ],
   "source": [
    "\n",
    "col='DayofWeek'\n",
    "test_3 = df1[[col, 'delay']]\n",
    "test_3 = test_3.groupby([col]).mean().reset_index()\n",
    "test_3 = test_3.sort_values(['delay']).reset_index(drop=True)\n",
    "#test_3.head(18)\n",
    "\n",
    "fig = plt.figure(1, figsize=(15,9))\n",
    "sns.set(font_scale=1.6)\n",
    "ax = sns.barplot(y='delay', x=col, data=test_3)\n",
    "#ax.set_title('AVERAGE ARRIVAL DELAY BY AIRLINE (mins)', fontsize=18) #by col\n",
    "#ax.set_xlabel('AVERAGE DELAY BY AIRLINE (min)', fontsize=14)\n",
    "plt.show()"
   ]
  },
  {
   "cell_type": "markdown",
   "metadata": {},
   "source": [
    "## Average Delay time by Hour"
   ]
  },
  {
   "cell_type": "code",
   "execution_count": 132,
   "metadata": {},
   "outputs": [
    {
     "data": {
      "image/png": "[encoded data removed]",
      "text/plain": [
       "<Figure size 1080x648 with 1 Axes>"
      ]
     },
     "metadata": {},
     "output_type": "display_data"
    }
   ],
   "source": [
    "col='Hour'\n",
    "test_3 = df1[[col, 'delay']]\n",
    "test_3 = test_3.groupby([col]).mean().reset_index()\n",
    "test_3 = test_3.sort_values(['delay']).reset_index(drop=True)\n",
    "#test_3.head(18)\n",
    "\n",
    "fig = plt.figure(1, figsize=(15,9))\n",
    "sns.set(font_scale=1.6)\n",
    "ax = sns.barplot(y='delay', x=col, data=test_3)\n",
    "#ax.set_title('AVERAGE ARRIVAL DELAY BY AIRLINE (mins)', fontsize=18) #by col\n",
    "#ax.set_xlabel('AVERAGE DELAY BY AIRLINE (min)', fontsize=14)\n",
    "plt.show()"
   ]
  },
  {
   "cell_type": "markdown",
   "metadata": {},
   "source": [
    "there is a pattern in hours"
   ]
  },
  {
   "cell_type": "markdown",
   "metadata": {},
   "source": [
    "## Average Delay time by Domestic"
   ]
  },
  {
   "cell_type": "code",
   "execution_count": 147,
   "metadata": {},
   "outputs": [
    {
     "data": {
      "image/png": "[encoded data removed]",
      "text/plain": [
       "<Figure size 1080x648 with 1 Axes>"
      ]
     },
     "metadata": {},
     "output_type": "display_data"
    }
   ],
   "source": [
    "col='Domestic'\n",
    "test_3 = df1[[col, 'delay']]\n",
    "test_3 = test_3.groupby([col]).mean().reset_index()\n",
    "test_3 = test_3.sort_values(['delay']).reset_index(drop=True)\n",
    "#test_3.head(18)\n",
    "\n",
    "fig = plt.figure(1, figsize=(15,9))\n",
    "sns.set(font_scale=1.6)\n",
    "ax = sns.barplot(y='delay', x=col, data=test_3)\n",
    "#ax.set_title('AVERAGE ARRIVAL DELAY BY AIRLINE (mins)', fontsize=18) #by col\n",
    "#ax.set_xlabel('AVERAGE DELAY BY AIRLINE (min)', fontsize=14)\n",
    "plt.show()"
   ]
  },
  {
   "cell_type": "markdown",
   "metadata": {},
   "source": [
    "## Average Delay time by TU Airline"
   ]
  },
  {
   "cell_type": "code",
   "execution_count": 148,
   "metadata": {},
   "outputs": [
    {
     "data": {
      "image/png": "[encoded data removed]",
      "text/plain": [
       "<Figure size 1080x648 with 1 Axes>"
      ]
     },
     "metadata": {},
     "output_type": "display_data"
    }
   ],
   "source": [
    "col='TU'\n",
    "test_3 = df1[[col, 'delay']]\n",
    "test_3 = test_3.groupby([col]).mean().reset_index()\n",
    "test_3 = test_3.sort_values(['delay']).reset_index(drop=True)\n",
    "#test_3.head(18)\n",
    "\n",
    "fig = plt.figure(1, figsize=(15,9))\n",
    "sns.set(font_scale=1.6)\n",
    "ax = sns.barplot(y='delay', x=col, data=test_3)\n",
    "#ax.set_title('AVERAGE ARRIVAL DELAY BY AIRLINE (mins)', fontsize=18) #by col\n",
    "#ax.set_xlabel('AVERAGE DELAY BY AIRLINE (min)', fontsize=14)\n",
    "plt.show()"
   ]
  },
  {
   "cell_type": "markdown",
   "metadata": {},
   "source": [
    "## Check Relationship between \"Diff_min\" and y=\"delay\" (colinearity)"
   ]
  },
  {
   "cell_type": "code",
   "execution_count": 135,
   "metadata": {},
   "outputs": [
    {
     "data": {
      "text/plain": [
       "<seaborn.axisgrid.JointGrid at 0x7f9330eeefa0>"
      ]
     },
     "execution_count": 135,
     "metadata": {},
     "output_type": "execute_result"
    },
    {
     "data": {
      "image/png": "[encoded data removed]",
      "text/plain": [
       "<Figure size 432x432 with 3 Axes>"
      ]
     },
     "metadata": {},
     "output_type": "display_data"
    }
   ],
   "source": [
    "sns.jointplot(data=df1, x=\"Diff_min\", y=\"delay\") #independent "
   ]
  },
  {
   "cell_type": "markdown",
   "metadata": {},
   "source": [
    "## Check Relationship between \"hobbs_meter\" and y=\"delay\" (colinearity)"
   ]
  },
  {
   "cell_type": "code",
   "execution_count": 136,
   "metadata": {},
   "outputs": [
    {
     "data": {
      "text/plain": [
       "<seaborn.axisgrid.JointGrid at 0x7f93383dc730>"
      ]
     },
     "execution_count": 136,
     "metadata": {},
     "output_type": "execute_result"
    },
    {
     "data": {
      "image/png": "[encoded data removed]",
      "text/plain": [
       "<Figure size 432x432 with 3 Axes>"
      ]
     },
     "metadata": {},
     "output_type": "display_data"
    }
   ],
   "source": [
    "sns.jointplot(data=df1, x=\"hobbs_meter\", y=\"delay\") #independent "
   ]
  },
  {
   "cell_type": "markdown",
   "metadata": {},
   "source": [
    "# Model"
   ]
  },
  {
   "cell_type": "markdown",
   "metadata": {},
   "source": [
    "## Data Preparation"
   ]
  },
  {
   "cell_type": "code",
   "execution_count": 145,
   "metadata": {},
   "outputs": [],
   "source": [
    "df['dep_stn']=np.where(df['dep_stn'].isin(top20_dep_stn), df['dep_stn'], 'Others')"
   ]
  },
  {
   "cell_type": "markdown",
   "metadata": {},
   "source": [
    "### create dummy"
   ]
  },
  {
   "cell_type": "code",
   "execution_count": 149,
   "metadata": {},
   "outputs": [
    {
     "data": {
      "text/html": [
       "<div>\n",
       "<style scoped>\n",
       "    .dataframe tbody tr th:only-of-type {\n",
       "        vertical-align: middle;\n",
       "    }\n",
       "\n",
       "    .dataframe tbody tr th {\n",
       "        vertical-align: top;\n",
       "    }\n",
       "\n",
       "    .dataframe thead th {\n",
       "        text-align: right;\n",
       "    }\n",
       "</style>\n",
       "<table border=\"1\" class=\"dataframe\">\n",
       "  <thead>\n",
       "    <tr style=\"text-align: right;\">\n",
       "      <th></th>\n",
       "      <th>TU</th>\n",
       "      <th>MONTH</th>\n",
       "      <th>DayofWeek</th>\n",
       "      <th>Domestic</th>\n",
       "      <th>dep_stn_ALG</th>\n",
       "      <th>dep_stn_BCN</th>\n",
       "      <th>dep_stn_BRU</th>\n",
       "      <th>dep_stn_CMN</th>\n",
       "      <th>dep_stn_DJE</th>\n",
       "      <th>dep_stn_DUS</th>\n",
       "      <th>dep_stn_FCO</th>\n",
       "      <th>dep_stn_FRA</th>\n",
       "      <th>dep_stn_GVA</th>\n",
       "      <th>dep_stn_IST</th>\n",
       "      <th>dep_stn_JED</th>\n",
       "      <th>dep_stn_LYS</th>\n",
       "      <th>dep_stn_MIR</th>\n",
       "      <th>dep_stn_MRS</th>\n",
       "      <th>dep_stn_MUC</th>\n",
       "      <th>dep_stn_MXP</th>\n",
       "      <th>dep_stn_NCE</th>\n",
       "      <th>dep_stn_ORY</th>\n",
       "      <th>dep_stn_Others</th>\n",
       "      <th>dep_stn_TLS</th>\n",
       "      <th>dep_stn_TUN</th>\n",
       "      <th>weather_cloudy</th>\n",
       "      <th>weather_foggy</th>\n",
       "      <th>weather_rainy</th>\n",
       "      <th>weather_stormy</th>\n",
       "      <th>weather_sunny</th>\n",
       "      <th>weather_windy</th>\n",
       "    </tr>\n",
       "  </thead>\n",
       "  <tbody>\n",
       "    <tr>\n",
       "      <th>0</th>\n",
       "      <td>True</td>\n",
       "      <td>1</td>\n",
       "      <td>4</td>\n",
       "      <td>False</td>\n",
       "      <td>0</td>\n",
       "      <td>0</td>\n",
       "      <td>0</td>\n",
       "      <td>0</td>\n",
       "      <td>0</td>\n",
       "      <td>0</td>\n",
       "      <td>0</td>\n",
       "      <td>0</td>\n",
       "      <td>0</td>\n",
       "      <td>0</td>\n",
       "      <td>0</td>\n",
       "      <td>0</td>\n",
       "      <td>0</td>\n",
       "      <td>0</td>\n",
       "      <td>0</td>\n",
       "      <td>0</td>\n",
       "      <td>0</td>\n",
       "      <td>0</td>\n",
       "      <td>0</td>\n",
       "      <td>0</td>\n",
       "      <td>1</td>\n",
       "      <td>0</td>\n",
       "      <td>0</td>\n",
       "      <td>0</td>\n",
       "      <td>0</td>\n",
       "      <td>1</td>\n",
       "      <td>0</td>\n",
       "    </tr>\n",
       "    <tr>\n",
       "      <th>1</th>\n",
       "      <td>True</td>\n",
       "      <td>1</td>\n",
       "      <td>4</td>\n",
       "      <td>False</td>\n",
       "      <td>0</td>\n",
       "      <td>0</td>\n",
       "      <td>0</td>\n",
       "      <td>0</td>\n",
       "      <td>0</td>\n",
       "      <td>0</td>\n",
       "      <td>0</td>\n",
       "      <td>0</td>\n",
       "      <td>0</td>\n",
       "      <td>0</td>\n",
       "      <td>0</td>\n",
       "      <td>0</td>\n",
       "      <td>0</td>\n",
       "      <td>0</td>\n",
       "      <td>0</td>\n",
       "      <td>0</td>\n",
       "      <td>0</td>\n",
       "      <td>0</td>\n",
       "      <td>0</td>\n",
       "      <td>0</td>\n",
       "      <td>1</td>\n",
       "      <td>0</td>\n",
       "      <td>0</td>\n",
       "      <td>1</td>\n",
       "      <td>0</td>\n",
       "      <td>0</td>\n",
       "      <td>0</td>\n",
       "    </tr>\n",
       "    <tr>\n",
       "      <th>2</th>\n",
       "      <td>True</td>\n",
       "      <td>1</td>\n",
       "      <td>4</td>\n",
       "      <td>False</td>\n",
       "      <td>0</td>\n",
       "      <td>0</td>\n",
       "      <td>0</td>\n",
       "      <td>0</td>\n",
       "      <td>0</td>\n",
       "      <td>0</td>\n",
       "      <td>0</td>\n",
       "      <td>0</td>\n",
       "      <td>0</td>\n",
       "      <td>0</td>\n",
       "      <td>0</td>\n",
       "      <td>0</td>\n",
       "      <td>0</td>\n",
       "      <td>0</td>\n",
       "      <td>0</td>\n",
       "      <td>0</td>\n",
       "      <td>0</td>\n",
       "      <td>0</td>\n",
       "      <td>0</td>\n",
       "      <td>0</td>\n",
       "      <td>1</td>\n",
       "      <td>0</td>\n",
       "      <td>1</td>\n",
       "      <td>0</td>\n",
       "      <td>0</td>\n",
       "      <td>0</td>\n",
       "      <td>0</td>\n",
       "    </tr>\n",
       "  </tbody>\n",
       "</table>\n",
       "</div>"
      ],
      "text/plain": [
       "     TU  MONTH  DayofWeek  Domestic  dep_stn_ALG  dep_stn_BCN  dep_stn_BRU  \\\n",
       "0  True      1          4     False            0            0            0   \n",
       "1  True      1          4     False            0            0            0   \n",
       "2  True      1          4     False            0            0            0   \n",
       "\n",
       "   dep_stn_CMN  dep_stn_DJE  dep_stn_DUS  dep_stn_FCO  dep_stn_FRA  \\\n",
       "0            0            0            0            0            0   \n",
       "1            0            0            0            0            0   \n",
       "2            0            0            0            0            0   \n",
       "\n",
       "   dep_stn_GVA  dep_stn_IST  dep_stn_JED  dep_stn_LYS  dep_stn_MIR  \\\n",
       "0            0            0            0            0            0   \n",
       "1            0            0            0            0            0   \n",
       "2            0            0            0            0            0   \n",
       "\n",
       "   dep_stn_MRS  dep_stn_MUC  dep_stn_MXP  dep_stn_NCE  dep_stn_ORY  \\\n",
       "0            0            0            0            0            0   \n",
       "1            0            0            0            0            0   \n",
       "2            0            0            0            0            0   \n",
       "\n",
       "   dep_stn_Others  dep_stn_TLS  dep_stn_TUN  weather_cloudy  weather_foggy  \\\n",
       "0               0            0            1               0              0   \n",
       "1               0            0            1               0              0   \n",
       "2               0            0            1               0              1   \n",
       "\n",
       "   weather_rainy  weather_stormy  weather_sunny  weather_windy  \n",
       "0              0               0              1              0  \n",
       "1              1               0              0              0  \n",
       "2              0               0              0              0  "
      ]
     },
     "execution_count": 149,
     "metadata": {},
     "output_type": "execute_result"
    }
   ],
   "source": [
    "\n",
    "cate_features = ['dep_stn','weather','TU','MONTH','DayofWeek', 'Domestic'] #include categorical y\n",
    "df_onehot = pd.get_dummies(df[cate_features])\n",
    "df_onehot.head(3)"
   ]
  },
  {
   "cell_type": "markdown",
   "metadata": {},
   "source": [
    "### Scale Numeric Variables"
   ]
  },
  {
   "cell_type": "code",
   "execution_count": 150,
   "metadata": {},
   "outputs": [],
   "source": [
    "\n",
    "num_features=['hobbs_meter', 'Hour','Diff_min'] #include numerical y"
   ]
  },
  {
   "cell_type": "code",
   "execution_count": 151,
   "metadata": {},
   "outputs": [
    {
     "data": {
      "text/plain": [
       "array([-1.08081053, -1.02776173, -0.79146788])"
      ]
     },
     "execution_count": 151,
     "metadata": {},
     "output_type": "execute_result"
    }
   ],
   "source": [
    "from sklearn import preprocessing\n",
    "#only standardize x, not y\n",
    "#scale before split traning,validation,testing\n",
    "scaler = preprocessing.StandardScaler().fit(df[num_features])\n",
    "x_scaled = scaler.transform(df[num_features])\n",
    "x_scaled[0]"
   ]
  },
  {
   "cell_type": "code",
   "execution_count": 152,
   "metadata": {},
   "outputs": [],
   "source": [
    "x_scaled=pd.DataFrame(x_scaled, columns=[num_features])"
   ]
  },
  {
   "cell_type": "code",
   "execution_count": 154,
   "metadata": {},
   "outputs": [
    {
     "data": {
      "text/html": [
       "<div>\n",
       "<style scoped>\n",
       "    .dataframe tbody tr th:only-of-type {\n",
       "        vertical-align: middle;\n",
       "    }\n",
       "\n",
       "    .dataframe tbody tr th {\n",
       "        vertical-align: top;\n",
       "    }\n",
       "\n",
       "    .dataframe thead tr th {\n",
       "        text-align: left;\n",
       "    }\n",
       "</style>\n",
       "<table border=\"1\" class=\"dataframe\">\n",
       "  <thead>\n",
       "    <tr>\n",
       "      <th></th>\n",
       "      <th>hobbs_meter</th>\n",
       "      <th>Hour</th>\n",
       "      <th>Diff_min</th>\n",
       "    </tr>\n",
       "  </thead>\n",
       "  <tbody>\n",
       "    <tr>\n",
       "      <th>0</th>\n",
       "      <td>-1.080811</td>\n",
       "      <td>-1.027762</td>\n",
       "      <td>-0.791468</td>\n",
       "    </tr>\n",
       "    <tr>\n",
       "      <th>1</th>\n",
       "      <td>-0.188057</td>\n",
       "      <td>-0.808067</td>\n",
       "      <td>0.356686</td>\n",
       "    </tr>\n",
       "  </tbody>\n",
       "</table>\n",
       "</div>"
      ],
      "text/plain": [
       "  hobbs_meter      Hour  Diff_min\n",
       "0   -1.080811 -1.027762 -0.791468\n",
       "1   -0.188057 -0.808067  0.356686"
      ]
     },
     "execution_count": 154,
     "metadata": {},
     "output_type": "execute_result"
    }
   ],
   "source": [
    "x_scaled.head(2)"
   ]
  },
  {
   "cell_type": "code",
   "execution_count": 161,
   "metadata": {},
   "outputs": [],
   "source": [
    "df_final_x =df_onehot.merge( x_scaled,left_index=True,right_index=True)"
   ]
  },
  {
   "cell_type": "code",
   "execution_count": 165,
   "metadata": {},
   "outputs": [
    {
     "data": {
      "text/plain": [
       "(8000, 34)"
      ]
     },
     "execution_count": 165,
     "metadata": {},
     "output_type": "execute_result"
    }
   ],
   "source": [
    "df_final_x.shape"
   ]
  },
  {
   "cell_type": "code",
   "execution_count": 163,
   "metadata": {},
   "outputs": [
    {
     "data": {
      "text/plain": [
       "0       18.0\n",
       "1       39.0\n",
       "2       14.0\n",
       "3       25.0\n",
       "4       21.0\n",
       "        ... \n",
       "2995     NaN\n",
       "2996     NaN\n",
       "2997     NaN\n",
       "2998     NaN\n",
       "2999     NaN\n",
       "Name: delay, Length: 8000, dtype: float64"
      ]
     },
     "execution_count": 163,
     "metadata": {},
     "output_type": "execute_result"
    }
   ],
   "source": [
    "response='delay'\n",
    "df_final_y = df[response]\n",
    "df_final_y"
   ]
  },
  {
   "cell_type": "code",
   "execution_count": 166,
   "metadata": {},
   "outputs": [
    {
     "data": {
      "text/plain": [
       "5000"
      ]
     },
     "execution_count": 166,
     "metadata": {},
     "output_type": "execute_result"
    }
   ],
   "source": [
    "train_length=sum(df['train']==1)\n",
    "train_length"
   ]
  },
  {
   "cell_type": "code",
   "execution_count": 168,
   "metadata": {},
   "outputs": [],
   "source": [
    "#If has test dataset without y, then after all the data cleaning, data engineering and create dummy variables, excute the following codes\n",
    "train_data_x=df_final_x.iloc[0:train_length,:]\n",
    "train_data_y=df_final_y.iloc[0:train_length]\n",
    "test_data_x=df_final_x.iloc[train_length:,]\n",
    "test_data_y=df_final_y.iloc[train_length:]"
   ]
  },
  {
   "cell_type": "markdown",
   "metadata": {},
   "source": [
    "### Split the dataset into training set, validation set and test set:"
   ]
  },
  {
   "cell_type": "code",
   "execution_count": 169,
   "metadata": {},
   "outputs": [],
   "source": [
    "from sklearn.model_selection import train_test_split\n",
    "\n",
    "x_train, x_dev, y_train, y_dev = train_test_split(train_data_x, train_data_y, test_size=0.25)"
   ]
  },
  {
   "cell_type": "code",
   "execution_count": 170,
   "metadata": {},
   "outputs": [
    {
     "data": {
      "text/plain": [
       "((3750, 34), (1250, 34), (3000, 34), (3750,), (1250,), (3000,))"
      ]
     },
     "execution_count": 170,
     "metadata": {},
     "output_type": "execute_result"
    }
   ],
   "source": [
    "(x_train.shape, x_dev.shape, test_data_x.shape, y_train.shape, y_dev.shape, test_data_y.shape)"
   ]
  },
  {
   "cell_type": "markdown",
   "metadata": {},
   "source": [
    "## XgBoost"
   ]
  },
  {
   "cell_type": "code",
   "execution_count": 171,
   "metadata": {},
   "outputs": [
    {
     "name": "stderr",
     "output_type": "stream",
     "text": [
      "/opt/conda/lib/python3.9/site-packages/xgboost/compat.py:36: FutureWarning: pandas.Int64Index is deprecated and will be removed from pandas in a future version. Use pandas.Index with the appropriate dtype instead.\n",
      "  from pandas import MultiIndex, Int64Index\n"
     ]
    }
   ],
   "source": [
    "%matplotlib inline\n",
    "import sklearn\n",
    "import seaborn as sns\n",
    "#import lightgbm as lgb\n",
    "import xgboost as xgb\n",
    "sns.set_style('darkgrid')\n",
    "pd.set_option('display.max_columns', None)\n",
    "import datetime, warnings, scipy\n",
    "warnings.filterwarnings(\"ignore\")\n",
    "\n",
    "\n",
    "from sklearn.preprocessing import StandardScaler"
   ]
  },
  {
   "cell_type": "code",
   "execution_count": 172,
   "metadata": {},
   "outputs": [],
   "source": [
    "from sklearn.metrics import confusion_matrix\n",
    "from sklearn.model_selection import train_test_split, GridSearchCV, cross_val_score\n",
    "from sklearn import metrics\n",
    "#from sklearn.tree import DecisionTreeClassifier\n",
    "#from sklearn.ensemble import RandomForestClassifier, AdaBoostClassifier\n",
    "#from sklearn.ensemble import BaggingClassifier\n",
    "import xgboost as xgb"
   ]
  },
  {
   "cell_type": "code",
   "execution_count": 173,
   "metadata": {},
   "outputs": [],
   "source": [
    "dtrain = xgb.DMatrix(x_train, label=y_train)\n",
    "ddev= xgb.DMatrix(x_dev,y_dev)"
   ]
  },
  {
   "cell_type": "code",
   "execution_count": 202,
   "metadata": {},
   "outputs": [],
   "source": [
    "param_grid = {\n",
    "    \"learning_rate\": [0.1, 0.05],\n",
    "    'max_depth': [2, 4,6],\n",
    "    'min_child_weight': [10],\n",
    "    'subsample': [0.8],\n",
    "    'n_estimators': [100,200],\n",
    "    'lambda':[1]\n",
    "}"
   ]
  },
  {
   "cell_type": "code",
   "execution_count": 203,
   "metadata": {},
   "outputs": [],
   "source": [
    "model= xgb.XGBRegressor(objective='reg:squarederror') #'reg:squarederror'\n",
    "grid_clf = GridSearchCV(model, param_grid, scoring='neg_mean_absolute_percentage_error', cv=5,n_jobs=-1)\n",
    "grid_clf.fit(x_train, y_train)\n",
    "\n",
    "best_parameters = grid_clf.best_params_"
   ]
  },
  {
   "cell_type": "code",
   "execution_count": 204,
   "metadata": {},
   "outputs": [
    {
     "data": {
      "text/plain": [
       "-0.8466027230737401"
      ]
     },
     "execution_count": 204,
     "metadata": {},
     "output_type": "execute_result"
    }
   ],
   "source": [
    "grid_clf.best_score_ #this is negative MAPE"
   ]
  },
  {
   "cell_type": "code",
   "execution_count": 209,
   "metadata": {},
   "outputs": [
    {
     "data": {
      "text/plain": [
       "{'lambda': 1,\n",
       " 'learning_rate': 0.05,\n",
       " 'max_depth': 2,\n",
       " 'min_child_weight': 10,\n",
       " 'n_estimators': 100,\n",
       " 'subsample': 0.8}"
      ]
     },
     "execution_count": 209,
     "metadata": {},
     "output_type": "execute_result"
    }
   ],
   "source": [
    "best_parameters"
   ]
  },
  {
   "cell_type": "code",
   "execution_count": 205,
   "metadata": {},
   "outputs": [
    {
     "data": {
      "text/plain": [
       "array([19.622553, 22.390865, 20.205233, ..., 20.418886, 19.140493,\n",
       "       20.533766], dtype=float32)"
      ]
     },
     "execution_count": 205,
     "metadata": {},
     "output_type": "execute_result"
    }
   ],
   "source": [
    "test_preds = grid_clf.predict(test_data_x)\n",
    "test_preds"
   ]
  },
  {
   "cell_type": "code",
   "execution_count": 254,
   "metadata": {},
   "outputs": [
    {
     "ename": "TypeError",
     "evalue": "fit() got an unexpected keyword argument 'objective'",
     "output_type": "error",
     "traceback": [
      "\u001b[0;31m---------------------------------------------------------------------------\u001b[0m",
      "\u001b[0;31mTypeError\u001b[0m                                 Traceback (most recent call last)",
      "Input \u001b[0;32mIn [254]\u001b[0m, in \u001b[0;36m<cell line: 6>\u001b[0;34m()\u001b[0m\n\u001b[1;32m      3\u001b[0m \u001b[38;5;66;03m# fit model no training data\u001b[39;00m\n\u001b[1;32m      4\u001b[0m model \u001b[38;5;241m=\u001b[39m XGBClassifier()\n\u001b[0;32m----> 6\u001b[0m \u001b[43mmodel\u001b[49m\u001b[38;5;241;43m.\u001b[39;49m\u001b[43mfit\u001b[49m\u001b[43m(\u001b[49m\u001b[43mx_train\u001b[49m\u001b[43m,\u001b[49m\u001b[43m \u001b[49m\u001b[43my_train\u001b[49m\u001b[43m,\u001b[49m\u001b[43m \u001b[49m\u001b[43mobjective\u001b[49m\u001b[38;5;241;43m=\u001b[39;49m\u001b[38;5;124;43m'\u001b[39;49m\u001b[38;5;124;43mreg:squarederror\u001b[39;49m\u001b[38;5;124;43m'\u001b[39;49m\u001b[43m,\u001b[49m\u001b[43m \u001b[49m\u001b[43meval_metric\u001b[49m\u001b[38;5;241;43m=\u001b[39;49m\u001b[38;5;124;43m'\u001b[39;49m\u001b[38;5;124;43mmape\u001b[39;49m\u001b[38;5;124;43m'\u001b[39;49m\u001b[43m)\u001b[49m\n\u001b[1;32m      7\u001b[0m \u001b[38;5;66;03m# feature importance\u001b[39;00m\n\u001b[1;32m      8\u001b[0m \u001b[38;5;28mprint\u001b[39m(model\u001b[38;5;241m.\u001b[39mfeature_importances_)\n",
      "File \u001b[0;32m/opt/conda/lib/python3.9/site-packages/xgboost/core.py:506\u001b[0m, in \u001b[0;36m_deprecate_positional_args.<locals>.inner_f\u001b[0;34m(*args, **kwargs)\u001b[0m\n\u001b[1;32m    504\u001b[0m \u001b[38;5;28;01mfor\u001b[39;00m k, arg \u001b[38;5;129;01min\u001b[39;00m \u001b[38;5;28mzip\u001b[39m(sig\u001b[38;5;241m.\u001b[39mparameters, args):\n\u001b[1;32m    505\u001b[0m     kwargs[k] \u001b[38;5;241m=\u001b[39m arg\n\u001b[0;32m--> 506\u001b[0m \u001b[38;5;28;01mreturn\u001b[39;00m \u001b[43mf\u001b[49m\u001b[43m(\u001b[49m\u001b[38;5;241;43m*\u001b[39;49m\u001b[38;5;241;43m*\u001b[39;49m\u001b[43mkwargs\u001b[49m\u001b[43m)\u001b[49m\n",
      "\u001b[0;31mTypeError\u001b[0m: fit() got an unexpected keyword argument 'objective'"
     ]
    }
   ],
   "source": [
    "## Deal with feature Importance\n",
    "from xgboost import XGBClassifier\n",
    "# fit model no training data\n",
    "model = XGBClassifier()\n",
    "\n",
    "model.fit(x_train, y_train, objective='reg:squarederror', eval_metric='mape')\n",
    "# feature importance\n",
    "print(model.feature_importances_)"
   ]
  },
  {
   "cell_type": "code",
   "execution_count": null,
   "metadata": {},
   "outputs": [],
   "source": [
    "plot_importance(model)\n",
    "pyplot.show()"
   ]
  },
  {
   "cell_type": "markdown",
   "metadata": {},
   "source": [
    "## Neutrla Network "
   ]
  },
  {
   "cell_type": "code",
   "execution_count": 181,
   "metadata": {},
   "outputs": [],
   "source": [
    "import keras\n",
    "from keras.models import Sequential\n",
    "from keras.layers import Dense\n",
    "from sklearn.datasets import load_breast_cancer\n",
    "from sklearn.preprocessing import StandardScaler, LabelBinarizer\n",
    "from sklearn.model_selection import train_test_split\n",
    "from keras.layers import Dense, Conv2D , SeparableConv2D, MaxPool2D, Flatten , Dropout , BatchNormalization\n",
    "from keras import Sequential\n",
    "from keras.layers import Dense\n",
    "from sklearn import preprocessing\n",
    "import sklearn.metrics as metrics\n",
    "from sklearn.metrics import classification_report, confusion_matrix\n",
    "from sklearn.metrics import precision_score, recall_score, f1_score\n",
    "\n",
    "import tensorflow as tf\n",
    "from tensorflow import keras"
   ]
  },
  {
   "cell_type": "code",
   "execution_count": 182,
   "metadata": {},
   "outputs": [],
   "source": [
    "def visualize_training_results(results):\n",
    "    history = results.history\n",
    "    plt.figure()\n",
    "    plt.plot(history['val_loss'])\n",
    "    plt.plot(history['loss'])\n",
    "    plt.legend(['val_loss', 'loss'])\n",
    "    plt.title('LOSS', fontsize=14)\n",
    "    plt.xlabel('Epochs', fontsize=12)\n",
    "    plt.ylabel('Loss', fontsize=12)\n",
    "    plt.show()"
   ]
  },
  {
   "cell_type": "code",
   "execution_count": 242,
   "metadata": {},
   "outputs": [],
   "source": [
    "model_1 = Sequential()\n",
    "\n",
    "model_1.add(Dense(30, activation='relu', input_shape=((len(df_onehot.iloc[0])+len(num_features)),)) )\n",
    "\n",
    "model_1.add(tf.keras.layers.LeakyReLU(alpha=0.05)) #negative  slope coefficient.\n",
    "\n",
    "model_1.add(Dense(10, activation='relu'))\n",
    "\n",
    "model_1.add(Dense(1))"
   ]
  },
  {
   "cell_type": "code",
   "execution_count": 243,
   "metadata": {},
   "outputs": [],
   "source": [
    "model_1.compile(loss=tf.keras.losses.MeanAbsolutePercentageError(), \n",
    "                optimizer='adam', \n",
    "                metrics=[tf.keras.metrics.MeanAbsolutePercentageError()])"
   ]
  },
  {
   "cell_type": "code",
   "execution_count": 244,
   "metadata": {},
   "outputs": [],
   "source": [
    "train_data_x = np.asarray(train_data_x).astype('float32')\n",
    "train_data_y = np.asarray(train_data_y).astype('float32')\n",
    "test_data_x = np.asarray(test_data_x).astype('float32')"
   ]
  },
  {
   "cell_type": "code",
   "execution_count": 245,
   "metadata": {},
   "outputs": [
    {
     "name": "stdout",
     "output_type": "stream",
     "text": [
      "Epoch 1/20\n",
      "150/150 [==============================] - 1s 3ms/step - loss: 64.4322 - mean_absolute_percentage_error: 64.4322 - val_loss: 54.8015 - val_mean_absolute_percentage_error: 54.8015\n",
      "Epoch 2/20\n",
      "150/150 [==============================] - 0s 2ms/step - loss: 55.5080 - mean_absolute_percentage_error: 55.5080 - val_loss: 52.5637 - val_mean_absolute_percentage_error: 52.5637\n",
      "Epoch 3/20\n",
      "150/150 [==============================] - 0s 3ms/step - loss: 54.6029 - mean_absolute_percentage_error: 54.6029 - val_loss: 53.1954 - val_mean_absolute_percentage_error: 53.1954\n",
      "Epoch 4/20\n",
      "150/150 [==============================] - 0s 2ms/step - loss: 54.2316 - mean_absolute_percentage_error: 54.2316 - val_loss: 51.9137 - val_mean_absolute_percentage_error: 51.9137\n",
      "Epoch 5/20\n",
      "150/150 [==============================] - 0s 2ms/step - loss: 54.0275 - mean_absolute_percentage_error: 54.0275 - val_loss: 51.7605 - val_mean_absolute_percentage_error: 51.7605\n",
      "Epoch 6/20\n",
      "150/150 [==============================] - 0s 2ms/step - loss: 53.9217 - mean_absolute_percentage_error: 53.9217 - val_loss: 51.8171 - val_mean_absolute_percentage_error: 51.8171\n",
      "Epoch 7/20\n",
      "150/150 [==============================] - 0s 2ms/step - loss: 53.8734 - mean_absolute_percentage_error: 53.8734 - val_loss: 51.7529 - val_mean_absolute_percentage_error: 51.7529\n",
      "Epoch 8/20\n",
      "150/150 [==============================] - 0s 3ms/step - loss: 53.7052 - mean_absolute_percentage_error: 53.7052 - val_loss: 51.8684 - val_mean_absolute_percentage_error: 51.8684\n",
      "Epoch 9/20\n",
      "150/150 [==============================] - 0s 2ms/step - loss: 53.6868 - mean_absolute_percentage_error: 53.6868 - val_loss: 52.0060 - val_mean_absolute_percentage_error: 52.0060\n",
      "Epoch 10/20\n",
      "150/150 [==============================] - 0s 2ms/step - loss: 53.6560 - mean_absolute_percentage_error: 53.6560 - val_loss: 51.7994 - val_mean_absolute_percentage_error: 51.7994\n",
      "Epoch 11/20\n",
      "150/150 [==============================] - 0s 2ms/step - loss: 53.5965 - mean_absolute_percentage_error: 53.5965 - val_loss: 51.8676 - val_mean_absolute_percentage_error: 51.8676\n",
      "Epoch 12/20\n",
      "150/150 [==============================] - 0s 2ms/step - loss: 53.6027 - mean_absolute_percentage_error: 53.6027 - val_loss: 52.0092 - val_mean_absolute_percentage_error: 52.0092\n",
      "Epoch 13/20\n",
      "150/150 [==============================] - 0s 2ms/step - loss: 53.5419 - mean_absolute_percentage_error: 53.5419 - val_loss: 51.9550 - val_mean_absolute_percentage_error: 51.9550\n",
      "Epoch 14/20\n",
      "150/150 [==============================] - 0s 2ms/step - loss: 53.4065 - mean_absolute_percentage_error: 53.4065 - val_loss: 51.9477 - val_mean_absolute_percentage_error: 51.9477\n",
      "Epoch 15/20\n",
      "150/150 [==============================] - 0s 2ms/step - loss: 53.4447 - mean_absolute_percentage_error: 53.4447 - val_loss: 52.0123 - val_mean_absolute_percentage_error: 52.0123\n",
      "Epoch 16/20\n",
      "150/150 [==============================] - 0s 2ms/step - loss: 53.2815 - mean_absolute_percentage_error: 53.2815 - val_loss: 51.9958 - val_mean_absolute_percentage_error: 51.9958\n",
      "Epoch 17/20\n",
      "150/150 [==============================] - 0s 2ms/step - loss: 53.2799 - mean_absolute_percentage_error: 53.2799 - val_loss: 52.0948 - val_mean_absolute_percentage_error: 52.0948\n",
      "Epoch 18/20\n",
      "150/150 [==============================] - 0s 2ms/step - loss: 53.2085 - mean_absolute_percentage_error: 53.2085 - val_loss: 52.1561 - val_mean_absolute_percentage_error: 52.1561\n",
      "Epoch 19/20\n",
      "150/150 [==============================] - 0s 2ms/step - loss: 53.0523 - mean_absolute_percentage_error: 53.0523 - val_loss: 52.5261 - val_mean_absolute_percentage_error: 52.5261\n",
      "Epoch 20/20\n",
      "150/150 [==============================] - 0s 2ms/step - loss: 53.0216 - mean_absolute_percentage_error: 53.0216 - val_loss: 52.3229 - val_mean_absolute_percentage_error: 52.3229\n"
     ]
    }
   ],
   "source": [
    "results1 = model_1.fit(train_data_x, train_data_y, epochs=20, batch_size=30, validation_split=0.1)"
   ]
  },
  {
   "cell_type": "code",
   "execution_count": 246,
   "metadata": {},
   "outputs": [
    {
     "data": {
      "image/png": "[encoded data removed]",
      "text/plain": [
       "<Figure size 432x288 with 1 Axes>"
      ]
     },
     "metadata": {},
     "output_type": "display_data"
    }
   ],
   "source": [
    "visualize_training_results(results1)"
   ]
  },
  {
   "cell_type": "code",
   "execution_count": 247,
   "metadata": {},
   "outputs": [],
   "source": [
    "y_pred_m1 = model_1.predict(test_data_x)"
   ]
  },
  {
   "cell_type": "code",
   "execution_count": 248,
   "metadata": {},
   "outputs": [
    {
     "data": {
      "text/plain": [
       "array([[11.097003 ],\n",
       "       [ 9.459083 ],\n",
       "       [ 9.445899 ],\n",
       "       ...,\n",
       "       [11.312411 ],\n",
       "       [ 9.59156  ],\n",
       "       [ 7.6024117]], dtype=float32)"
      ]
     },
     "execution_count": 248,
     "metadata": {},
     "output_type": "execute_result"
    }
   ],
   "source": [
    "y_pred_m1"
   ]
  },
  {
   "cell_type": "code",
   "execution_count": 249,
   "metadata": {},
   "outputs": [],
   "source": [
    "result2=pd.DataFrame()\n",
    "result2['id']=df['id'].iloc[5000:]\n",
    "result2['delay']=y_pred_m1"
   ]
  },
  {
   "cell_type": "code",
   "execution_count": 250,
   "metadata": {},
   "outputs": [],
   "source": [
    "result2.to_csv('submissions.csv')"
   ]
  },
  {
   "cell_type": "code",
   "execution_count": null,
   "metadata": {},
   "outputs": [],
   "source": []
  },
  {
   "cell_type": "code",
   "execution_count": null,
   "metadata": {},
   "outputs": [],
   "source": []
  },
  {
   "cell_type": "code",
   "execution_count": null,
   "metadata": {},
   "outputs": [],
   "source": []
  },
  {
   "cell_type": "code",
   "execution_count": null,
   "metadata": {},
   "outputs": [],
   "source": []
  },
  {
   "cell_type": "code",
   "execution_count": null,
   "metadata": {},
   "outputs": [],
   "source": []
  },
  {
   "cell_type": "code",
   "execution_count": null,
   "metadata": {},
   "outputs": [],
   "source": []
  },
  {
   "cell_type": "code",
   "execution_count": null,
   "metadata": {},
   "outputs": [],
   "source": []
  },
  {
   "cell_type": "markdown",
   "metadata": {},
   "source": [
    "##  Modeling, Machine Learning\n",
    "\n",
    "Build a regression model to predict how many minutes a flight will be delayed. Please explain the findings effectively to technical and non-technical audiences using comments and visualizations, if appropriate.\n",
    "- **Build an optimized model that effectively solves the business problem.**\n",
    "- **The model's performance will be evaluated on mean absolute percent error.**\n",
    "- **Read the test.csv file and prepare features for testing.**"
   ]
  },
  {
   "cell_type": "code",
   "execution_count": 9,
   "metadata": {},
   "outputs": [
    {
     "data": {
      "text/html": [
       "<div>\n",
       "<style scoped>\n",
       "    .dataframe tbody tr th:only-of-type {\n",
       "        vertical-align: middle;\n",
       "    }\n",
       "\n",
       "    .dataframe tbody tr th {\n",
       "        vertical-align: top;\n",
       "    }\n",
       "\n",
       "    .dataframe thead th {\n",
       "        text-align: right;\n",
       "    }\n",
       "</style>\n",
       "<table border=\"1\" class=\"dataframe\">\n",
       "  <thead>\n",
       "    <tr style=\"text-align: right;\">\n",
       "      <th></th>\n",
       "      <th>id</th>\n",
       "      <th>dep_stn</th>\n",
       "      <th>arr_stn</th>\n",
       "      <th>ac_code</th>\n",
       "      <th>dep_date</th>\n",
       "      <th>arr_date</th>\n",
       "      <th>weather</th>\n",
       "      <th>hobbs_meter</th>\n",
       "      <th>year_man</th>\n",
       "      <th>dep_country</th>\n",
       "      <th>arr_country</th>\n",
       "    </tr>\n",
       "  </thead>\n",
       "  <tbody>\n",
       "    <tr>\n",
       "      <th>0</th>\n",
       "      <td>TU 0848</td>\n",
       "      <td>BEY</td>\n",
       "      <td>TUN</td>\n",
       "      <td>TU 31BIMQ</td>\n",
       "      <td>2017-11-12 11:35:00</td>\n",
       "      <td>2017-11-12 15.10.00</td>\n",
       "      <td>cloudy</td>\n",
       "      <td>6399</td>\n",
       "      <td>2004-08</td>\n",
       "      <td>Lebanon</td>\n",
       "      <td>Tunisia</td>\n",
       "    </tr>\n",
       "    <tr>\n",
       "      <th>1</th>\n",
       "      <td>TU 0720</td>\n",
       "      <td>TUN</td>\n",
       "      <td>ORY</td>\n",
       "      <td>TU 320IMT</td>\n",
       "      <td>2017-11-12 13:00:00</td>\n",
       "      <td>2017-11-12 15.20.00</td>\n",
       "      <td>foggy</td>\n",
       "      <td>8338</td>\n",
       "      <td>2009-04</td>\n",
       "      <td>Tunisia</td>\n",
       "      <td>France - Orly</td>\n",
       "    </tr>\n",
       "    <tr>\n",
       "      <th>2</th>\n",
       "      <td>TU 0998</td>\n",
       "      <td>TUN</td>\n",
       "      <td>NCE</td>\n",
       "      <td>TU 32AIMP</td>\n",
       "      <td>2017-11-12 14:15:00</td>\n",
       "      <td>2017-11-12 15.45.00</td>\n",
       "      <td>cloudy</td>\n",
       "      <td>6847</td>\n",
       "      <td>2010-01</td>\n",
       "      <td>Tunisia</td>\n",
       "      <td>France</td>\n",
       "    </tr>\n",
       "    <tr>\n",
       "      <th>3</th>\n",
       "      <td>TU 0722</td>\n",
       "      <td>TUN</td>\n",
       "      <td>ORY</td>\n",
       "      <td>TU 32AIMG</td>\n",
       "      <td>2017-11-12 15:10:00</td>\n",
       "      <td>2017-11-12 17.30.00</td>\n",
       "      <td>sunny</td>\n",
       "      <td>6909</td>\n",
       "      <td>2008-12</td>\n",
       "      <td>Tunisia</td>\n",
       "      <td>France - Orly</td>\n",
       "    </tr>\n",
       "    <tr>\n",
       "      <th>4</th>\n",
       "      <td>TU 0613</td>\n",
       "      <td>DKR</td>\n",
       "      <td>BKO</td>\n",
       "      <td>TU 320IMV</td>\n",
       "      <td>2017-11-12 22:20:00</td>\n",
       "      <td>2017-11-12 23.55.00</td>\n",
       "      <td>stormy</td>\n",
       "      <td>4243</td>\n",
       "      <td>2004-08</td>\n",
       "      <td>Senegal</td>\n",
       "      <td>Mali</td>\n",
       "    </tr>\n",
       "  </tbody>\n",
       "</table>\n",
       "</div>"
      ],
      "text/plain": [
       "         id dep_stn arr_stn    ac_code             dep_date  \\\n",
       "0  TU 0848      BEY     TUN  TU 31BIMQ  2017-11-12 11:35:00   \n",
       "1  TU 0720      TUN     ORY  TU 320IMT  2017-11-12 13:00:00   \n",
       "2  TU 0998      TUN     NCE  TU 32AIMP  2017-11-12 14:15:00   \n",
       "3  TU 0722      TUN     ORY  TU 32AIMG  2017-11-12 15:10:00   \n",
       "4  TU 0613      DKR     BKO  TU 320IMV  2017-11-12 22:20:00   \n",
       "\n",
       "              arr_date weather  hobbs_meter year_man dep_country  \\\n",
       "0  2017-11-12 15.10.00  cloudy         6399  2004-08    Lebanon    \n",
       "1  2017-11-12 15.20.00   foggy         8338  2009-04    Tunisia    \n",
       "2  2017-11-12 15.45.00  cloudy         6847  2010-01    Tunisia    \n",
       "3  2017-11-12 17.30.00   sunny         6909  2008-12    Tunisia    \n",
       "4  2017-11-12 23.55.00  stormy         4243  2004-08    Senegal    \n",
       "\n",
       "       arr_country  \n",
       "0         Tunisia   \n",
       "1   France - Orly   \n",
       "2          France   \n",
       "3   France - Orly   \n",
       "4            Mali   "
      ]
     },
     "execution_count": 9,
     "metadata": {},
     "output_type": "execute_result"
    }
   ],
   "source": [
    "#Loading Test data\n",
    "test_data=pd.read_csv('test.csv')\n",
    "test_data.head()"
   ]
  },
  {
   "cell_type": "markdown",
   "metadata": {},
   "source": [
    "\n",
    "**Describe the most important features of the model to management.**\n",
    "\n",
    "> #### Task:\n",
    "- **Visualize the top 10 features and their feature importance.**\n"
   ]
  },
  {
   "cell_type": "markdown",
   "metadata": {},
   "source": [
    "> #### Task:\n",
    "- **Submit the predictions on the test dataset using the optimized model** <br/>\n",
    "    For each record in the test set (`test.csv`), predict how many minutes a flight will be delayed. Submit a CSV file with a header row and one row per test entry.\n",
    "\n",
    "The file (`submissions.csv`) should have exactly 2 columns:\n",
    "   - **id**\n",
    "   - **delay**"
   ]
  },
  {
   "cell_type": "code",
   "execution_count": null,
   "metadata": {},
   "outputs": [],
   "source": [
    "#Submission\n",
    "submission_df.to_csv('submissions.csv',index=False)"
   ]
  }
 ],
 "metadata": {
  "kernelspec": {
   "display_name": "Python 3",
   "language": "python",
   "name": "python3"
  },
  "language_info": {
   "codemirror_mode": {
    "name": "ipython",
    "version": 3
   },
   "file_extension": ".py",
   "mimetype": "text/x-python",
   "name": "python",
   "nbconvert_exporter": "python",
   "pygments_lexer": "ipython3",
   "version": "3.8.8"
  }
 },
 "nbformat": 4,
 "nbformat_minor": 4
}
